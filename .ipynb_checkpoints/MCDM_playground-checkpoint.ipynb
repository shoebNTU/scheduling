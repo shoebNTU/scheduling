{
 "cells": [
  {
   "cell_type": "code",
   "execution_count": 10,
   "id": "ed6b6dd9",
   "metadata": {},
   "outputs": [],
   "source": [
    "import pandas as pd\n",
    "import numpy as np\n",
    "from collections import OrderedDict\n",
    "from skcriteria import Data\n",
    "from skcriteria.madm.simus import SIMUS\n",
    "from skcriteria.madm.electre import ELECTRE1\n",
    "from skcriteria.madm import closeness, simple\n",
    "from scipy.stats import rankdata"
   ]
  },
  {
   "cell_type": "code",
   "execution_count": 2,
   "id": "5434b1b3",
   "metadata": {},
   "outputs": [],
   "source": [
    "df = pd.read_excel('input1.xlsx') # reading input file"
   ]
  },
  {
   "cell_type": "code",
   "execution_count": 3,
   "id": "7067f07a",
   "metadata": {
    "scrolled": true
   },
   "outputs": [
    {
     "data": {
      "text/html": [
       "<div>\n",
       "<style scoped>\n",
       "    .dataframe tbody tr th:only-of-type {\n",
       "        vertical-align: middle;\n",
       "    }\n",
       "\n",
       "    .dataframe tbody tr th {\n",
       "        vertical-align: top;\n",
       "    }\n",
       "\n",
       "    .dataframe thead th {\n",
       "        text-align: right;\n",
       "    }\n",
       "</style>\n",
       "<table border=\"1\" class=\"dataframe\">\n",
       "  <thead>\n",
       "    <tr style=\"text-align: right;\">\n",
       "      <th></th>\n",
       "      <th>Cost</th>\n",
       "      <th>Risk</th>\n",
       "      <th>FPMK</th>\n",
       "    </tr>\n",
       "  </thead>\n",
       "  <tbody>\n",
       "    <tr>\n",
       "      <th>0</th>\n",
       "      <td>10</td>\n",
       "      <td>1</td>\n",
       "      <td>1.00</td>\n",
       "    </tr>\n",
       "    <tr>\n",
       "      <th>1</th>\n",
       "      <td>10</td>\n",
       "      <td>2</td>\n",
       "      <td>1.30</td>\n",
       "    </tr>\n",
       "    <tr>\n",
       "      <th>2</th>\n",
       "      <td>10</td>\n",
       "      <td>1</td>\n",
       "      <td>1.30</td>\n",
       "    </tr>\n",
       "    <tr>\n",
       "      <th>3</th>\n",
       "      <td>11</td>\n",
       "      <td>2</td>\n",
       "      <td>1.25</td>\n",
       "    </tr>\n",
       "  </tbody>\n",
       "</table>\n",
       "</div>"
      ],
      "text/plain": [
       "   Cost  Risk  FPMK\n",
       "0    10     1  1.00\n",
       "1    10     2  1.30\n",
       "2    10     1  1.30\n",
       "3    11     2  1.25"
      ]
     },
     "execution_count": 3,
     "metadata": {},
     "output_type": "execute_result"
    }
   ],
   "source": [
    "df"
   ]
  },
  {
   "cell_type": "markdown",
   "id": "d40196f4",
   "metadata": {},
   "source": [
    "# scikit-criteria methods"
   ]
  },
  {
   "cell_type": "code",
   "execution_count": 4,
   "id": "c4cb4885",
   "metadata": {},
   "outputs": [],
   "source": [
    "data = Data(\n",
    "    # the alternative matrix\n",
    "    mtx=np.array(df),\n",
    "    # optimal sense\n",
    "    criteria=[min, min, min],\n",
    "    # names of alternatives and criteria\n",
    "    anames=list(df.index),\n",
    "    cnames=list(df.columns))"
   ]
  },
  {
   "cell_type": "code",
   "execution_count": 5,
   "id": "0c4d095d",
   "metadata": {},
   "outputs": [
    {
     "data": {
      "text/html": [
       "<table>\n",
       "<thead>\n",
       "<tr><th style=\"text-align: center;\"> ALT./CRIT. </th><th style=\"text-align: center;\"> Cost (min) </th><th style=\"text-align: center;\"> Risk (min) </th><th style=\"text-align: center;\"> FPMK (min) </th></tr>\n",
       "</thead>\n",
       "<tbody>\n",
       "<tr><td style=\"text-align: center;\">     0      </td><td style=\"text-align: center;\">     10     </td><td style=\"text-align: center;\">     1      </td><td style=\"text-align: center;\">     1      </td></tr>\n",
       "<tr><td style=\"text-align: center;\">     1      </td><td style=\"text-align: center;\">     10     </td><td style=\"text-align: center;\">     2      </td><td style=\"text-align: center;\">    1.3     </td></tr>\n",
       "<tr><td style=\"text-align: center;\">     2      </td><td style=\"text-align: center;\">     10     </td><td style=\"text-align: center;\">     1      </td><td style=\"text-align: center;\">    1.3     </td></tr>\n",
       "<tr><td style=\"text-align: center;\">     3      </td><td style=\"text-align: center;\">     11     </td><td style=\"text-align: center;\">     2      </td><td style=\"text-align: center;\">    1.25    </td></tr>\n",
       "</tbody>\n",
       "</table>"
      ],
      "text/plain": [
       " ALT./CRIT.    Cost (min)    Risk (min)    FPMK (min)\n",
       "------------  ------------  ------------  ------------\n",
       "     0             10            1             1\n",
       "     1             10            2            1.3\n",
       "     2             10            1            1.3\n",
       "     3             11            2            1.25"
      ]
     },
     "execution_count": 5,
     "metadata": {},
     "output_type": "execute_result"
    }
   ],
   "source": [
    "data"
   ]
  },
  {
   "cell_type": "code",
   "execution_count": 6,
   "id": "24bdece5",
   "metadata": {},
   "outputs": [
    {
     "data": {
      "text/html": [
       "<div id='dec-d7cc647b-20f0-11ec-a33e-e8d8d1a8ec9a'><p><b>SIMUS (mnorm=none, wnorm=none) - Solution:</b></p><table>\n",
       "<thead>\n",
       "<tr><th style=\"text-align: center;\"> ALT./CRIT. </th><th style=\"text-align: center;\"> Cost (min) </th><th style=\"text-align: center;\"> Risk (min) </th><th style=\"text-align: center;\"> FPMK (min) </th><th style=\"text-align: center;\"> Rank </th></tr>\n",
       "</thead>\n",
       "<tbody>\n",
       "<tr><td style=\"text-align: center;\">     0      </td><td style=\"text-align: center;\">     10     </td><td style=\"text-align: center;\">     1      </td><td style=\"text-align: center;\">     1      </td><td style=\"text-align: center;\">  1   </td></tr>\n",
       "<tr><td style=\"text-align: center;\">     1      </td><td style=\"text-align: center;\">     10     </td><td style=\"text-align: center;\">     2      </td><td style=\"text-align: center;\">    1.3     </td><td style=\"text-align: center;\">  2   </td></tr>\n",
       "<tr><td style=\"text-align: center;\">     2      </td><td style=\"text-align: center;\">     10     </td><td style=\"text-align: center;\">     1      </td><td style=\"text-align: center;\">    1.3     </td><td style=\"text-align: center;\">  3   </td></tr>\n",
       "<tr><td style=\"text-align: center;\">     3      </td><td style=\"text-align: center;\">     11     </td><td style=\"text-align: center;\">     2      </td><td style=\"text-align: center;\">    1.25    </td><td style=\"text-align: center;\">  4   </td></tr>\n",
       "</tbody>\n",
       "</table></div>"
      ],
      "text/plain": [
       "SIMUS (mnorm=none, wnorm=none) - Solution:\n",
       " ALT./CRIT.    Cost (min)    Risk (min)    FPMK (min)    Rank\n",
       "------------  ------------  ------------  ------------  ------\n",
       "     0             10            1             1          1\n",
       "     1             10            2            1.3         2\n",
       "     2             10            1            1.3         3\n",
       "     3             11            2            1.25        4"
      ]
     },
     "execution_count": 6,
     "metadata": {},
     "output_type": "execute_result"
    }
   ],
   "source": [
    "# SIMUS()\n",
    "dm = SIMUS()\n",
    "dec = dm.decide(data,b=[None]*df.shape[1])\n",
    "# let's see the decision\n",
    "dec"
   ]
  },
  {
   "cell_type": "code",
   "execution_count": 7,
   "id": "e4cf802d",
   "metadata": {
    "scrolled": true
   },
   "outputs": [
    {
     "data": {
      "text/html": [
       "<div id='dec-d7cdeb34-20f0-11ec-b801-e8d8d1a8ec9a'><p><b>TOPSIS (mnorm=vector, wnorm=sum) - Solution:</b></p><table>\n",
       "<thead>\n",
       "<tr><th style=\"text-align: center;\"> ALT./CRIT. </th><th style=\"text-align: center;\"> Cost (min) </th><th style=\"text-align: center;\"> Risk (min) </th><th style=\"text-align: center;\"> FPMK (min) </th><th style=\"text-align: center;\"> Rank </th></tr>\n",
       "</thead>\n",
       "<tbody>\n",
       "<tr><td style=\"text-align: center;\">     0      </td><td style=\"text-align: center;\">     10     </td><td style=\"text-align: center;\">     1      </td><td style=\"text-align: center;\">     1      </td><td style=\"text-align: center;\">  1   </td></tr>\n",
       "<tr><td style=\"text-align: center;\">     1      </td><td style=\"text-align: center;\">     10     </td><td style=\"text-align: center;\">     2      </td><td style=\"text-align: center;\">    1.3     </td><td style=\"text-align: center;\">  3   </td></tr>\n",
       "<tr><td style=\"text-align: center;\">     2      </td><td style=\"text-align: center;\">     10     </td><td style=\"text-align: center;\">     1      </td><td style=\"text-align: center;\">    1.3     </td><td style=\"text-align: center;\">  2   </td></tr>\n",
       "<tr><td style=\"text-align: center;\">     3      </td><td style=\"text-align: center;\">     11     </td><td style=\"text-align: center;\">     2      </td><td style=\"text-align: center;\">    1.25    </td><td style=\"text-align: center;\">  4   </td></tr>\n",
       "</tbody>\n",
       "</table></div>"
      ],
      "text/plain": [
       "TOPSIS (mnorm=vector, wnorm=sum) - Solution:\n",
       " ALT./CRIT.    Cost (min)    Risk (min)    FPMK (min)    Rank\n",
       "------------  ------------  ------------  ------------  ------\n",
       "     0             10            1             1          1\n",
       "     1             10            2            1.3         3\n",
       "     2             10            1            1.3         2\n",
       "     3             11            2            1.25        4"
      ]
     },
     "execution_count": 7,
     "metadata": {},
     "output_type": "execute_result"
    }
   ],
   "source": [
    "# TOPSIS\n",
    "dm = closeness.TOPSIS()\n",
    "dec = dm.decide(data)\n",
    "# let's see the decision\n",
    "dec"
   ]
  },
  {
   "cell_type": "markdown",
   "id": "803bb14c",
   "metadata": {},
   "source": [
    "# AHP"
   ]
  },
  {
   "cell_type": "code",
   "execution_count": 19,
   "id": "c4dfcee2",
   "metadata": {},
   "outputs": [],
   "source": [
    "# AHP function\n",
    "class AHP():\n",
    "    RI = {1:0, 2:0, 3:0.58, 4:0.9, 5:1.12, 6:1.24, 7:1.32, 8:1.41, 9:1.45}\n",
    "    consistency = False\n",
    "    priority_vec = None\n",
    "    compete = False\n",
    "    normal = False\n",
    "    sublayer = None\n",
    "\n",
    "    def __init__(self,name,size):\n",
    "        self.name = name\n",
    "        self.size = size\n",
    "        self.matrix = np.zeros([size,size])\n",
    "        self.criteria = [None]*size\n",
    "\n",
    "    def update_matrix(self,mat,automated=True):\n",
    "        self.original_matrix = mat\n",
    "        if not((mat.shape[0] == mat.shape[1]) and (mat.ndim == 2)):\n",
    "            raise Exception('Input matrix must be squared')\n",
    "        \n",
    "        if self.size != len(self.criteria):\n",
    "            self.criteria = [None]*self.size\n",
    "        self.matrix = mat\n",
    "        self.size = mat.shape[0]\n",
    "        self.consistency = False\n",
    "        self.normal = False\n",
    "        self.priority_vec = None\n",
    "        if automated:\n",
    "            self.rank()\n",
    "    \n",
    "    def input_priority_vec(self,vec):\n",
    "        if not(vec.shape[1]==1) and (vec.shape[0]==self.size) and (vec.ndim==2):\n",
    "            raise Exception('Size of input priority vector is not compatible.')\n",
    "        self.priority_vec = vec\n",
    "        self.output = self.priority_vec/self.priority_vec.sum()\n",
    "        self.consistency = True\n",
    "        self.normal = True\n",
    "\n",
    "    def rename(self,name):\n",
    "        self.name = name\n",
    "\n",
    "    def update_criteria(self,criteria):\n",
    "        if len(criteria) == self.size:\n",
    "            self.criteria = criteria\n",
    "        else:\n",
    "            raise Exception('Input does not match number of criteria')\n",
    "    \n",
    "    def add_layer(self,alternative):\n",
    "        if not self.criteria:\n",
    "            raise Exception('Please input criteria before adding new layer')\n",
    "        self.compete = False\n",
    "        self.sublayer = OrderedDict()\n",
    "        self.alternative = alternative\n",
    "        for i in range(self.size):\n",
    "            self.sublayer[self.criteria[i]] = AHP(self.criteria[i],len(alternative))\n",
    "            self.sublayer[self.criteria[i]].update_criteria(self.alternative)\n",
    "\n",
    "    def normalize(self):\n",
    "        if self.normal:\n",
    "            pass\n",
    "        self.col_sum = self.matrix.sum(axis=0)\n",
    "        try:\n",
    "            self.matrix = self.matrix/self.col_sum\n",
    "        except:\n",
    "            raise Exception('Error when normalizing on columns')\n",
    "        else:\n",
    "            self.normal = True\n",
    "            self.priority_vec = self.matrix.sum(axis=1).reshape(-1,1)\n",
    "\n",
    "    def rank(self):\n",
    "        if self.consistency:\n",
    "            df = pd.DataFrame(data = self.output, index = self.criteria, columns=[self.name])\n",
    "            return df\n",
    "        \n",
    "        if not self.normal:\n",
    "            self.normalize()\n",
    "        \n",
    "        Ax = self.matrix.dot(self.priority_vec)\n",
    "        eigen_val = (Ax/self.priority_vec).mean()\n",
    "        eigen_val = np.linalg.eig(self.original_matrix)[0].max()\n",
    "        CI = (eigen_val - self.size)/(self.size-1)\n",
    "        CR = CI/self.RI[self.size]\n",
    "        if CR<0.1 or (self.RI[self.size]==0):\n",
    "            self.consistency = True\n",
    "            self.output = self.priority_vec/self.priority_vec.sum()\n",
    "            self.df_out = pd.DataFrame(data = self.output, index = self.criteria, columns = [self.name])\n",
    "            return self.df_out\n",
    "        else:\n",
    "            raise Exception('Consistency is not sufficient to reach a decision')\n",
    "\n",
    "    def make_decision(self):\n",
    "        if not self.consistency:\n",
    "            self.rank()\n",
    "        if not self.compete:\n",
    "            temp = True\n",
    "            arrays = []\n",
    "            for item in self.sublayer.values():\n",
    "                item.rank()\n",
    "                temp = temp and item.consistency\n",
    "                if temp:\n",
    "                    arrays.append(item.output)\n",
    "                else:\n",
    "                    raise Exception('Please check AHP for {}'.format(item.name))\n",
    "            \n",
    "            if temp:\n",
    "                self.compete = True\n",
    "            else:\n",
    "                pass\n",
    "            self.recommendation = np.concatenate(arrays, axis=1).dot(self.output)\n",
    "        self.df_decision = pd.DataFrame(data=self.recommendation, index=self.alternative, columns = ['AHP Score'])\n",
    "        self.df_decision.index.name = 'Alternative'\n",
    "        self.df_decision['rank'] = self.df_decision['AHP Score'].rank(ascending=True)\n",
    "        return self.df_decision\n",
    "\n",
    "def AHP_rank(df,criteria_matrix):\n",
    "    method = AHP('method',df.shape[1])\n",
    "    method.update_criteria(list(df.columns))\n",
    "    method.update_matrix(criteria_matrix)\n",
    "\n",
    "    method.add_layer([i for i in range(df.shape[0])])\n",
    "\n",
    "    # iterate over column names --> method.sublayer['col_name'].input_priority_vec(insert corresponding col here)\n",
    "    # finally method.make_decision\n",
    "    for col in df.columns:\n",
    "        method.sublayer[col].input_priority_vec(np.array(df[col]).reshape(-1,1))\n",
    "\n",
    "    return method.make_decision()['rank'].values"
   ]
  },
  {
   "cell_type": "code",
   "execution_count": 27,
   "id": "72569729",
   "metadata": {},
   "outputs": [],
   "source": [
    "method = AHP('method',df.shape[1])\n",
    "method.update_criteria(list(df.columns))\n",
    "a = 1.0\n",
    "b = 1.0\n",
    "c = 1.0\n",
    "\n",
    "criteria_matrix = np.array([[1.0,a,b],[1/a,1.0,c],[1/c,1/b,1.0]])\n",
    "\n",
    "method.update_matrix(criteria_matrix)\n",
    "\n",
    "method.add_layer([i for i in range(df.shape[0])])\n",
    "\n",
    "for col in df.columns:\n",
    "    method.sublayer[col].input_priority_vec(np.array(df[col]).reshape(-1,1))\n",
    "\n",
    "method.make_decision()['rank'].values.astype(int)"
   ]
  },
  {
   "cell_type": "code",
   "execution_count": 38,
   "id": "cb567aa1",
   "metadata": {},
   "outputs": [
    {
     "data": {
      "text/plain": [
       "0    0\n",
       "1    2\n",
       "2    1\n",
       "3    3\n",
       "Name: Risk, dtype: int64"
      ]
     },
     "execution_count": 38,
     "metadata": {},
     "output_type": "execute_result"
    }
   ],
   "source": [
    "df['Risk'].argsort().argsort()+1"
   ]
  },
  {
   "cell_type": "markdown",
   "id": "c32b397b",
   "metadata": {},
   "source": [
    "# Sum of ranks"
   ]
  },
  {
   "cell_type": "code",
   "execution_count": 106,
   "id": "6fd0ac7d",
   "metadata": {},
   "outputs": [],
   "source": [
    "sum_of_rank = np.zeros((df.shape[0],1))\n",
    "for col in df.columns:\n",
    "    temp = rankdata(df[col], method='min').reshape(-1,1)\n",
    "    sum_of_rank += temp\n",
    "#     print(col)\n",
    "#     print(np.array(df[col].argsort().argsort()+1).reshape(-1,1))\n",
    "    "
   ]
  },
  {
   "cell_type": "code",
   "execution_count": 107,
   "id": "e27c8ea4",
   "metadata": {},
   "outputs": [
    {
     "data": {
      "text/plain": [
       "array([[3.],\n",
       "       [9.],\n",
       "       [6.],\n",
       "       [9.]])"
      ]
     },
     "execution_count": 107,
     "metadata": {},
     "output_type": "execute_result"
    }
   ],
   "source": [
    "sum_of_rank"
   ]
  },
  {
   "cell_type": "code",
   "execution_count": 111,
   "id": "5ccfdab4",
   "metadata": {},
   "outputs": [
    {
     "data": {
      "text/plain": [
       "array([1, 3, 2, 4], dtype=int64)"
      ]
     },
     "execution_count": 111,
     "metadata": {},
     "output_type": "execute_result"
    }
   ],
   "source": [
    "sum_of_rank.ravel().argsort().argsort()+1"
   ]
  },
  {
   "cell_type": "code",
   "execution_count": 85,
   "id": "db0dd019",
   "metadata": {},
   "outputs": [
    {
     "data": {
      "text/plain": [
       "array([[1],\n",
       "       [3],\n",
       "       [2],\n",
       "       [4]], dtype=int64)"
      ]
     },
     "execution_count": 85,
     "metadata": {},
     "output_type": "execute_result"
    }
   ],
   "source": [
    "np.array(df['Cost'].argsort()+1).reshape(-1,1)"
   ]
  },
  {
   "cell_type": "code",
   "execution_count": 87,
   "id": "7b57742b",
   "metadata": {},
   "outputs": [
    {
     "data": {
      "text/plain": [
       "array([[ 3.],\n",
       "       [10.],\n",
       "       [ 6.],\n",
       "       [11.]])"
      ]
     },
     "execution_count": 87,
     "metadata": {},
     "output_type": "execute_result"
    }
   ],
   "source": [
    "sum_of_rank"
   ]
  },
  {
   "cell_type": "markdown",
   "id": "63afe819",
   "metadata": {},
   "source": [
    "# Check if Michael ranks and AHP differ?\n"
   ]
  },
  {
   "cell_type": "code",
   "execution_count": 23,
   "id": "8d45f830",
   "metadata": {},
   "outputs": [],
   "source": [
    "def AHP_rank(df):    \n",
    "    method = AHP('method',df.shape[1])\n",
    "    method.update_criteria(list(df.columns))\n",
    "    method.update_matrix(np.ones((3,3)))\n",
    "\n",
    "    method.add_layer([i for i in range(df.shape[0])])\n",
    "\n",
    "    # iterate over column names --> method.sublayer['col_name'].input_priority_vec(insert corresponding col here)\n",
    "    # finally method.make_decision\n",
    "    for col in df.columns:\n",
    "        method.sublayer[col].input_priority_vec(np.array(df[col]).reshape(-1,1))\n",
    "\n",
    "    return method.make_decision()['rank'].values#.astype(int)"
   ]
  },
  {
   "cell_type": "code",
   "execution_count": 36,
   "id": "dbfc7fd9",
   "metadata": {},
   "outputs": [],
   "source": [
    "def sum_of_rank(df):\n",
    "    sum_of_rank = np.zeros((df.shape[0],1))\n",
    "    for col in df.columns:\n",
    "        temp = rankdata(df[col], method='min').reshape(-1,1)\n",
    "        sum_of_rank += temp\n",
    "    return sum_of_rank.ravel().argsort().argsort()+1"
   ]
  },
  {
   "cell_type": "code",
   "execution_count": 28,
   "id": "2d49658a",
   "metadata": {},
   "outputs": [],
   "source": [
    "a = AHP_rank(df).astype(int)"
   ]
  },
  {
   "cell_type": "code",
   "execution_count": 29,
   "id": "1cc356ad",
   "metadata": {},
   "outputs": [],
   "source": [
    "b = sum_of_rank(df)"
   ]
  },
  {
   "cell_type": "code",
   "execution_count": 31,
   "id": "39cf3656",
   "metadata": {},
   "outputs": [
    {
     "data": {
      "text/plain": [
       "True"
      ]
     },
     "execution_count": 31,
     "metadata": {},
     "output_type": "execute_result"
    }
   ],
   "source": [
    "np.array_equal(a,b)"
   ]
  },
  {
   "cell_type": "code",
   "execution_count": 37,
   "id": "916011e5",
   "metadata": {},
   "outputs": [
    {
     "name": "stdout",
     "output_type": "stream",
     "text": [
      "   0  1  2\n",
      "0  3  4  0\n",
      "1  1  3  0\n",
      "2  0  1  4\n"
     ]
    }
   ],
   "source": [
    "for i in range(2):\n",
    "    \n",
    "    np.random.seed(i)    \n",
    "    df_ = pd.DataFrame(np.random.randint(5, size=(3,3)))\n",
    "    if np.array_equal(AHP_rank(df_).astype(int),sum_of_rank(df_)):\n",
    "        pass\n",
    "    else:\n",
    "        print(df_)\n",
    "        "
   ]
  },
  {
   "cell_type": "code",
   "execution_count": null,
   "id": "b9339fcd",
   "metadata": {},
   "outputs": [],
   "source": []
  }
 ],
 "metadata": {
  "kernelspec": {
   "display_name": "Python 3",
   "language": "python",
   "name": "python3"
  },
  "language_info": {
   "codemirror_mode": {
    "name": "ipython",
    "version": 3
   },
   "file_extension": ".py",
   "mimetype": "text/x-python",
   "name": "python",
   "nbconvert_exporter": "python",
   "pygments_lexer": "ipython3",
   "version": "3.8.8"
  }
 },
 "nbformat": 4,
 "nbformat_minor": 5
}
