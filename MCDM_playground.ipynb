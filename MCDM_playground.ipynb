{
 "cells": [
  {
   "cell_type": "code",
   "execution_count": 1,
   "id": "2f3df1f7",
   "metadata": {},
   "outputs": [],
   "source": [
    "import pandas as pd\n",
    "import numpy as np\n",
    "from collections import OrderedDict\n",
    "from skcriteria import Data\n",
    "from skcriteria.madm.simus import SIMUS\n",
    "from skcriteria.madm.electre import ELECTRE1\n",
    "from skcriteria.madm import closeness, simple\n",
    "from scipy.stats import rankdata\n",
    "from utils import *"
   ]
  },
  {
   "cell_type": "code",
   "execution_count": 2,
   "id": "852061e4",
   "metadata": {},
   "outputs": [],
   "source": [
    "df = pd.read_excel('input.xlsx') # reading input file"
   ]
  },
  {
   "cell_type": "code",
   "execution_count": 3,
   "id": "7ef4ba7a",
   "metadata": {
    "scrolled": true
   },
   "outputs": [
    {
     "data": {
      "text/html": [
       "<div>\n",
       "<style scoped>\n",
       "    .dataframe tbody tr th:only-of-type {\n",
       "        vertical-align: middle;\n",
       "    }\n",
       "\n",
       "    .dataframe tbody tr th {\n",
       "        vertical-align: top;\n",
       "    }\n",
       "\n",
       "    .dataframe thead th {\n",
       "        text-align: right;\n",
       "    }\n",
       "</style>\n",
       "<table border=\"1\" class=\"dataframe\">\n",
       "  <thead>\n",
       "    <tr style=\"text-align: right;\">\n",
       "      <th></th>\n",
       "      <th>Cost</th>\n",
       "      <th>Risk</th>\n",
       "      <th>FPMK</th>\n",
       "    </tr>\n",
       "  </thead>\n",
       "  <tbody>\n",
       "    <tr>\n",
       "      <th>0</th>\n",
       "      <td>10</td>\n",
       "      <td>1</td>\n",
       "      <td>1.32</td>\n",
       "    </tr>\n",
       "    <tr>\n",
       "      <th>1</th>\n",
       "      <td>12</td>\n",
       "      <td>5</td>\n",
       "      <td>1.30</td>\n",
       "    </tr>\n",
       "    <tr>\n",
       "      <th>2</th>\n",
       "      <td>11</td>\n",
       "      <td>1</td>\n",
       "      <td>1.38</td>\n",
       "    </tr>\n",
       "    <tr>\n",
       "      <th>3</th>\n",
       "      <td>14</td>\n",
       "      <td>2</td>\n",
       "      <td>1.25</td>\n",
       "    </tr>\n",
       "  </tbody>\n",
       "</table>\n",
       "</div>"
      ],
      "text/plain": [
       "   Cost  Risk  FPMK\n",
       "0    10     1  1.32\n",
       "1    12     5  1.30\n",
       "2    11     1  1.38\n",
       "3    14     2  1.25"
      ]
     },
     "execution_count": 3,
     "metadata": {},
     "output_type": "execute_result"
    }
   ],
   "source": [
    "df"
   ]
  },
  {
   "cell_type": "code",
   "execution_count": 4,
   "id": "3328a114",
   "metadata": {},
   "outputs": [],
   "source": [
    "a = 1.0\n",
    "criteria_matrix = np.array([[1.0, a],[1.0/a, 1.0]])# np.array([[1.0,a,b],[1/a,1.0,c],[1/c,1/b,1.0]])"
   ]
  },
  {
   "cell_type": "code",
   "execution_count": 5,
   "id": "d5b3db4f",
   "metadata": {},
   "outputs": [
    {
     "data": {
      "text/plain": [
       "array([[1., 1.],\n",
       "       [1., 1.]])"
      ]
     },
     "execution_count": 5,
     "metadata": {},
     "output_type": "execute_result"
    }
   ],
   "source": [
    "criteria_matrix = np.ones((2,2))\n",
    "criteria_matrix"
   ]
  },
  {
   "cell_type": "code",
   "execution_count": 14,
   "id": "6ccf1cd0",
   "metadata": {},
   "outputs": [
    {
     "name": "stderr",
     "output_type": "stream",
     "text": [
      "<ipython-input-12-13032c78384c>:83: RuntimeWarning: invalid value encountered in double_scalars\n",
      "  CR = CI/self.RI[self.size]\n"
     ]
    },
    {
     "ename": "Exception",
     "evalue": "Consistency is not sufficient to reach a decision",
     "output_type": "error",
     "traceback": [
      "\u001b[1;31m---------------------------------------------------------------------------\u001b[0m",
      "\u001b[1;31mException\u001b[0m                                 Traceback (most recent call last)",
      "\u001b[1;32m<ipython-input-14-99958df25a02>\u001b[0m in \u001b[0;36m<module>\u001b[1;34m\u001b[0m\n\u001b[0;32m      1\u001b[0m \u001b[0mcriteria_matrix\u001b[0m \u001b[1;33m=\u001b[0m \u001b[0mnp\u001b[0m\u001b[1;33m.\u001b[0m\u001b[0mones\u001b[0m\u001b[1;33m(\u001b[0m\u001b[1;33m(\u001b[0m\u001b[1;36m2\u001b[0m\u001b[1;33m,\u001b[0m\u001b[1;36m2\u001b[0m\u001b[1;33m)\u001b[0m\u001b[1;33m)\u001b[0m\u001b[1;33m\u001b[0m\u001b[1;33m\u001b[0m\u001b[0m\n\u001b[1;32m----> 2\u001b[1;33m \u001b[0mAHP_rank\u001b[0m\u001b[1;33m(\u001b[0m\u001b[0mdf\u001b[0m\u001b[1;33m.\u001b[0m\u001b[0miloc\u001b[0m\u001b[1;33m[\u001b[0m\u001b[1;33m:\u001b[0m\u001b[1;33m,\u001b[0m\u001b[1;33m:\u001b[0m\u001b[1;36m2\u001b[0m\u001b[1;33m]\u001b[0m\u001b[1;33m,\u001b[0m\u001b[0mcriteria_matrix\u001b[0m\u001b[1;33m)\u001b[0m\u001b[1;33m\u001b[0m\u001b[1;33m\u001b[0m\u001b[0m\n\u001b[0m",
      "\u001b[1;32m<ipython-input-12-13032c78384c>\u001b[0m in \u001b[0;36mAHP_rank\u001b[1;34m(df, criteria_matrix)\u001b[0m\n\u001b[0;32m    118\u001b[0m     \u001b[0mmethod\u001b[0m \u001b[1;33m=\u001b[0m \u001b[0mAHP\u001b[0m\u001b[1;33m(\u001b[0m\u001b[1;34m'method'\u001b[0m\u001b[1;33m,\u001b[0m\u001b[0mdf\u001b[0m\u001b[1;33m.\u001b[0m\u001b[0mshape\u001b[0m\u001b[1;33m[\u001b[0m\u001b[1;36m1\u001b[0m\u001b[1;33m]\u001b[0m\u001b[1;33m)\u001b[0m \u001b[1;31m# the second argument is number of objectives\u001b[0m\u001b[1;33m\u001b[0m\u001b[1;33m\u001b[0m\u001b[0m\n\u001b[0;32m    119\u001b[0m     \u001b[0mmethod\u001b[0m\u001b[1;33m.\u001b[0m\u001b[0mupdate_criteria\u001b[0m\u001b[1;33m(\u001b[0m\u001b[0mlist\u001b[0m\u001b[1;33m(\u001b[0m\u001b[0mdf\u001b[0m\u001b[1;33m.\u001b[0m\u001b[0mcolumns\u001b[0m\u001b[1;33m)\u001b[0m\u001b[1;33m)\u001b[0m\u001b[1;33m\u001b[0m\u001b[1;33m\u001b[0m\u001b[0m\n\u001b[1;32m--> 120\u001b[1;33m     \u001b[0mmethod\u001b[0m\u001b[1;33m.\u001b[0m\u001b[0mupdate_matrix\u001b[0m\u001b[1;33m(\u001b[0m\u001b[0mcriteria_matrix\u001b[0m\u001b[1;33m)\u001b[0m\u001b[1;33m\u001b[0m\u001b[1;33m\u001b[0m\u001b[0m\n\u001b[0m\u001b[0;32m    121\u001b[0m \u001b[1;33m\u001b[0m\u001b[0m\n\u001b[0;32m    122\u001b[0m     \u001b[0mmethod\u001b[0m\u001b[1;33m.\u001b[0m\u001b[0madd_layer\u001b[0m\u001b[1;33m(\u001b[0m\u001b[1;33m[\u001b[0m\u001b[0mi\u001b[0m \u001b[1;32mfor\u001b[0m \u001b[0mi\u001b[0m \u001b[1;32min\u001b[0m \u001b[0mrange\u001b[0m\u001b[1;33m(\u001b[0m\u001b[0mdf\u001b[0m\u001b[1;33m.\u001b[0m\u001b[0mshape\u001b[0m\u001b[1;33m[\u001b[0m\u001b[1;36m0\u001b[0m\u001b[1;33m]\u001b[0m\u001b[1;33m)\u001b[0m\u001b[1;33m]\u001b[0m\u001b[1;33m)\u001b[0m \u001b[1;31m#adding interventions\u001b[0m\u001b[1;33m\u001b[0m\u001b[1;33m\u001b[0m\u001b[0m\n",
      "\u001b[1;32m<ipython-input-12-13032c78384c>\u001b[0m in \u001b[0;36mupdate_matrix\u001b[1;34m(self, mat, automated)\u001b[0m\n\u001b[0;32m     27\u001b[0m         \u001b[0mself\u001b[0m\u001b[1;33m.\u001b[0m\u001b[0mpriority_vec\u001b[0m \u001b[1;33m=\u001b[0m \u001b[1;32mNone\u001b[0m\u001b[1;33m\u001b[0m\u001b[1;33m\u001b[0m\u001b[0m\n\u001b[0;32m     28\u001b[0m         \u001b[1;32mif\u001b[0m \u001b[0mautomated\u001b[0m\u001b[1;33m:\u001b[0m\u001b[1;33m\u001b[0m\u001b[1;33m\u001b[0m\u001b[0m\n\u001b[1;32m---> 29\u001b[1;33m             \u001b[0mself\u001b[0m\u001b[1;33m.\u001b[0m\u001b[0mrank\u001b[0m\u001b[1;33m(\u001b[0m\u001b[1;33m)\u001b[0m\u001b[1;33m\u001b[0m\u001b[1;33m\u001b[0m\u001b[0m\n\u001b[0m\u001b[0;32m     30\u001b[0m \u001b[1;33m\u001b[0m\u001b[0m\n\u001b[0;32m     31\u001b[0m     \u001b[1;32mdef\u001b[0m \u001b[0minput_priority_vec\u001b[0m\u001b[1;33m(\u001b[0m\u001b[0mself\u001b[0m\u001b[1;33m,\u001b[0m\u001b[0mvec\u001b[0m\u001b[1;33m)\u001b[0m\u001b[1;33m:\u001b[0m\u001b[1;33m\u001b[0m\u001b[1;33m\u001b[0m\u001b[0m\n",
      "\u001b[1;32m<ipython-input-12-13032c78384c>\u001b[0m in \u001b[0;36mrank\u001b[1;34m(self)\u001b[0m\n\u001b[0;32m     89\u001b[0m             \u001b[1;32mreturn\u001b[0m \u001b[0mself\u001b[0m\u001b[1;33m.\u001b[0m\u001b[0mdf_out\u001b[0m\u001b[1;33m\u001b[0m\u001b[1;33m\u001b[0m\u001b[0m\n\u001b[0;32m     90\u001b[0m         \u001b[1;32melse\u001b[0m\u001b[1;33m:\u001b[0m\u001b[1;33m\u001b[0m\u001b[1;33m\u001b[0m\u001b[0m\n\u001b[1;32m---> 91\u001b[1;33m             \u001b[1;32mraise\u001b[0m \u001b[0mException\u001b[0m\u001b[1;33m(\u001b[0m\u001b[1;34m'Consistency is not sufficient to reach a decision'\u001b[0m\u001b[1;33m)\u001b[0m\u001b[1;33m\u001b[0m\u001b[1;33m\u001b[0m\u001b[0m\n\u001b[0m\u001b[0;32m     92\u001b[0m \u001b[1;33m\u001b[0m\u001b[0m\n\u001b[0;32m     93\u001b[0m     \u001b[1;32mdef\u001b[0m \u001b[0mmake_decision\u001b[0m\u001b[1;33m(\u001b[0m\u001b[0mself\u001b[0m\u001b[1;33m)\u001b[0m\u001b[1;33m:\u001b[0m\u001b[1;33m\u001b[0m\u001b[1;33m\u001b[0m\u001b[0m\n",
      "\u001b[1;31mException\u001b[0m: Consistency is not sufficient to reach a decision"
     ]
    }
   ],
   "source": [
    "criteria_matrix = np.ones((2,2))\n",
    "AHP_rank(df.iloc[:,:2],criteria_matrix)"
   ]
  },
  {
   "cell_type": "code",
   "execution_count": 12,
   "id": "4d3ca901",
   "metadata": {},
   "outputs": [],
   "source": [
    "# AHP function\n",
    "class AHP():\n",
    "    RI = {1:0, 2:0.0, 3:0.58, 4:0.9, 5:1.12, 6:1.24, 7:1.32, 8:1.41, 9:1.45}\n",
    "    consistency = False\n",
    "    priority_vec = None\n",
    "    compete = False\n",
    "    normal = False\n",
    "    sublayer = None\n",
    "\n",
    "    def __init__(self,name,size):\n",
    "        self.name = name\n",
    "        self.size = size\n",
    "        self.matrix = np.zeros([size,size])\n",
    "        self.criteria = [None]*size\n",
    "\n",
    "    def update_matrix(self,mat,automated=True):\n",
    "        self.original_matrix = mat\n",
    "        if not((mat.shape[0] == mat.shape[1]) and (mat.ndim == 2)):\n",
    "            raise Exception('Input matrix must be squared')\n",
    "        \n",
    "        if self.size != len(self.criteria):\n",
    "            self.criteria = [None]*self.size\n",
    "        self.matrix = mat\n",
    "        self.size = mat.shape[0]\n",
    "        self.consistency = False\n",
    "        self.normal = False\n",
    "        self.priority_vec = None\n",
    "        if automated:\n",
    "            self.rank()\n",
    "    \n",
    "    def input_priority_vec(self,vec):\n",
    "        if not(vec.shape[1]==1) and (vec.shape[0]==self.size) and (vec.ndim==2):\n",
    "            raise Exception('Size of input priority vector is not compatible.')\n",
    "        self.priority_vec = vec\n",
    "        self.output = self.priority_vec/self.priority_vec.sum()\n",
    "        self.consistency = True\n",
    "        self.normal = True\n",
    "\n",
    "    def rename(self,name):\n",
    "        self.name = name\n",
    "\n",
    "    def update_criteria(self,criteria):\n",
    "        if len(criteria) == self.size:\n",
    "            self.criteria = criteria\n",
    "        else:\n",
    "            raise Exception('Input does not match number of criteria')\n",
    "    \n",
    "    def add_layer(self,alternative):\n",
    "        if not self.criteria:\n",
    "            raise Exception('Please input criteria before adding new layer')\n",
    "        self.compete = False\n",
    "        self.sublayer = OrderedDict()\n",
    "        self.alternative = alternative\n",
    "        for i in range(self.size):\n",
    "            self.sublayer[self.criteria[i]] = AHP(self.criteria[i],len(alternative))\n",
    "            self.sublayer[self.criteria[i]].update_criteria(self.alternative)\n",
    "\n",
    "    def normalize(self):\n",
    "        if self.normal:\n",
    "            pass\n",
    "        self.col_sum = self.matrix.sum(axis=0)\n",
    "        try:\n",
    "            self.matrix = self.matrix/self.col_sum\n",
    "        except:\n",
    "            raise Exception('Error when normalizing on columns')\n",
    "        else:\n",
    "            self.normal = True\n",
    "            self.priority_vec = self.matrix.sum(axis=1).reshape(-1,1)\n",
    "\n",
    "    def rank(self):\n",
    "        if self.consistency:\n",
    "            df = pd.DataFrame(data = self.output, index = self.criteria, columns=[self.name])\n",
    "            return df\n",
    "        \n",
    "        if not self.normal:\n",
    "            self.normalize()\n",
    "        \n",
    "        Ax = self.matrix.dot(self.priority_vec)\n",
    "        eigen_val = (Ax/self.priority_vec).mean()\n",
    "        eigen_val = np.linalg.eig(self.original_matrix)[0].max()\n",
    "        CI = (eigen_val - self.size)/(self.size-1)\n",
    "\n",
    "        if self.size > 2:\n",
    "            CR = CI/self.RI[self.size]\n",
    "        else:\n",
    "            CR = 0.0\n",
    "\n",
    "        if CR<0.1:\n",
    "            self.consistency = True\n",
    "            self.output = self.priority_vec/self.priority_vec.sum()\n",
    "            self.df_out = pd.DataFrame(data = self.output, index = self.criteria, columns = [self.name])\n",
    "            return self.df_out\n",
    "        else:\n",
    "            raise Exception('Consistency is not sufficient to reach a decision')\n",
    "\n",
    "    def make_decision(self):\n",
    "        if not self.consistency:\n",
    "            self.rank()\n",
    "        if not self.compete:\n",
    "            temp = True\n",
    "            arrays = []\n",
    "            for item in self.sublayer.values():\n",
    "                item.rank()\n",
    "                temp = temp and item.consistency\n",
    "                if temp:\n",
    "                    arrays.append(item.output)\n",
    "                else:\n",
    "                    raise Exception('Please check AHP for {}'.format(item.name))\n",
    "            \n",
    "            if temp:\n",
    "                self.compete = True\n",
    "            else:\n",
    "                pass\n",
    "            self.recommendation = np.concatenate(arrays, axis=1).dot(self.output)\n",
    "        self.df_decision = pd.DataFrame(data=self.recommendation, index=self.alternative, columns = ['AHP Score'])\n",
    "        self.df_decision.index.name = 'Alternative'\n",
    "        self.df_decision['rank'] = self.df_decision['AHP Score'].rank(ascending=True)\n",
    "        return self.df_decision\n",
    "\n",
    "def AHP_rank(df,criteria_matrix):\n",
    "    method = AHP('method',df.shape[1]) # the second argument is number of objectives\n",
    "    method.update_criteria(list(df.columns))\n",
    "    method.update_matrix(criteria_matrix)\n",
    "\n",
    "    method.add_layer([i for i in range(df.shape[0])]) #adding interventions\n",
    "\n",
    "    # iterate over column names --> method.sublayer['col_name'].input_priority_vec(insert corresponding col here)\n",
    "    # finally method.make_decision\n",
    "    for col in df.columns: #adding priority vectors associated with objectives corresponding to different interventions\n",
    "        method.sublayer[col].input_priority_vec(np.array(df[col]).reshape(-1,1))\n",
    "\n",
    "    return method.make_decision()#['rank']#.values#.astype(int)"
   ]
  },
  {
   "cell_type": "markdown",
   "id": "54d02e52",
   "metadata": {},
   "source": [
    "# scikit-criteria methods"
   ]
  },
  {
   "cell_type": "code",
   "execution_count": 4,
   "id": "d6d4ba64",
   "metadata": {},
   "outputs": [],
   "source": [
    "data = Data(\n",
    "    # the alternative matrix\n",
    "    mtx=np.array(df),\n",
    "    # optimal sense\n",
    "    criteria=[min, min, min],\n",
    "    # names of alternatives and criteria\n",
    "    anames=list(df.index),\n",
    "    cnames=list(df.columns))"
   ]
  },
  {
   "cell_type": "code",
   "execution_count": 5,
   "id": "3dac2c7d",
   "metadata": {},
   "outputs": [
    {
     "data": {
      "text/html": [
       "<table>\n",
       "<thead>\n",
       "<tr><th style=\"text-align: center;\"> ALT./CRIT. </th><th style=\"text-align: center;\"> Cost (min) </th><th style=\"text-align: center;\"> Risk (min) </th><th style=\"text-align: center;\"> FPMK (min) </th></tr>\n",
       "</thead>\n",
       "<tbody>\n",
       "<tr><td style=\"text-align: center;\">     0      </td><td style=\"text-align: center;\">     10     </td><td style=\"text-align: center;\">     1      </td><td style=\"text-align: center;\">     1      </td></tr>\n",
       "<tr><td style=\"text-align: center;\">     1      </td><td style=\"text-align: center;\">     10     </td><td style=\"text-align: center;\">     2      </td><td style=\"text-align: center;\">    1.3     </td></tr>\n",
       "<tr><td style=\"text-align: center;\">     2      </td><td style=\"text-align: center;\">     10     </td><td style=\"text-align: center;\">     1      </td><td style=\"text-align: center;\">    1.3     </td></tr>\n",
       "<tr><td style=\"text-align: center;\">     3      </td><td style=\"text-align: center;\">     11     </td><td style=\"text-align: center;\">     2      </td><td style=\"text-align: center;\">    1.25    </td></tr>\n",
       "</tbody>\n",
       "</table>"
      ],
      "text/plain": [
       " ALT./CRIT.    Cost (min)    Risk (min)    FPMK (min)\n",
       "------------  ------------  ------------  ------------\n",
       "     0             10            1             1\n",
       "     1             10            2            1.3\n",
       "     2             10            1            1.3\n",
       "     3             11            2            1.25"
      ]
     },
     "execution_count": 5,
     "metadata": {},
     "output_type": "execute_result"
    }
   ],
   "source": [
    "data"
   ]
  },
  {
   "cell_type": "code",
   "execution_count": 6,
   "id": "6759760c",
   "metadata": {},
   "outputs": [
    {
     "data": {
      "text/html": [
       "<div id='dec-d7cc647b-20f0-11ec-a33e-e8d8d1a8ec9a'><p><b>SIMUS (mnorm=none, wnorm=none) - Solution:</b></p><table>\n",
       "<thead>\n",
       "<tr><th style=\"text-align: center;\"> ALT./CRIT. </th><th style=\"text-align: center;\"> Cost (min) </th><th style=\"text-align: center;\"> Risk (min) </th><th style=\"text-align: center;\"> FPMK (min) </th><th style=\"text-align: center;\"> Rank </th></tr>\n",
       "</thead>\n",
       "<tbody>\n",
       "<tr><td style=\"text-align: center;\">     0      </td><td style=\"text-align: center;\">     10     </td><td style=\"text-align: center;\">     1      </td><td style=\"text-align: center;\">     1      </td><td style=\"text-align: center;\">  1   </td></tr>\n",
       "<tr><td style=\"text-align: center;\">     1      </td><td style=\"text-align: center;\">     10     </td><td style=\"text-align: center;\">     2      </td><td style=\"text-align: center;\">    1.3     </td><td style=\"text-align: center;\">  2   </td></tr>\n",
       "<tr><td style=\"text-align: center;\">     2      </td><td style=\"text-align: center;\">     10     </td><td style=\"text-align: center;\">     1      </td><td style=\"text-align: center;\">    1.3     </td><td style=\"text-align: center;\">  3   </td></tr>\n",
       "<tr><td style=\"text-align: center;\">     3      </td><td style=\"text-align: center;\">     11     </td><td style=\"text-align: center;\">     2      </td><td style=\"text-align: center;\">    1.25    </td><td style=\"text-align: center;\">  4   </td></tr>\n",
       "</tbody>\n",
       "</table></div>"
      ],
      "text/plain": [
       "SIMUS (mnorm=none, wnorm=none) - Solution:\n",
       " ALT./CRIT.    Cost (min)    Risk (min)    FPMK (min)    Rank\n",
       "------------  ------------  ------------  ------------  ------\n",
       "     0             10            1             1          1\n",
       "     1             10            2            1.3         2\n",
       "     2             10            1            1.3         3\n",
       "     3             11            2            1.25        4"
      ]
     },
     "execution_count": 6,
     "metadata": {},
     "output_type": "execute_result"
    }
   ],
   "source": [
    "# SIMUS()\n",
    "dm = SIMUS()\n",
    "dec = dm.decide(data,b=[None]*df.shape[1])\n",
    "# let's see the decision\n",
    "dec"
   ]
  },
  {
   "cell_type": "code",
   "execution_count": 7,
   "id": "e9b63e39",
   "metadata": {
    "scrolled": true
   },
   "outputs": [
    {
     "data": {
      "text/html": [
       "<div id='dec-d7cdeb34-20f0-11ec-b801-e8d8d1a8ec9a'><p><b>TOPSIS (mnorm=vector, wnorm=sum) - Solution:</b></p><table>\n",
       "<thead>\n",
       "<tr><th style=\"text-align: center;\"> ALT./CRIT. </th><th style=\"text-align: center;\"> Cost (min) </th><th style=\"text-align: center;\"> Risk (min) </th><th style=\"text-align: center;\"> FPMK (min) </th><th style=\"text-align: center;\"> Rank </th></tr>\n",
       "</thead>\n",
       "<tbody>\n",
       "<tr><td style=\"text-align: center;\">     0      </td><td style=\"text-align: center;\">     10     </td><td style=\"text-align: center;\">     1      </td><td style=\"text-align: center;\">     1      </td><td style=\"text-align: center;\">  1   </td></tr>\n",
       "<tr><td style=\"text-align: center;\">     1      </td><td style=\"text-align: center;\">     10     </td><td style=\"text-align: center;\">     2      </td><td style=\"text-align: center;\">    1.3     </td><td style=\"text-align: center;\">  3   </td></tr>\n",
       "<tr><td style=\"text-align: center;\">     2      </td><td style=\"text-align: center;\">     10     </td><td style=\"text-align: center;\">     1      </td><td style=\"text-align: center;\">    1.3     </td><td style=\"text-align: center;\">  2   </td></tr>\n",
       "<tr><td style=\"text-align: center;\">     3      </td><td style=\"text-align: center;\">     11     </td><td style=\"text-align: center;\">     2      </td><td style=\"text-align: center;\">    1.25    </td><td style=\"text-align: center;\">  4   </td></tr>\n",
       "</tbody>\n",
       "</table></div>"
      ],
      "text/plain": [
       "TOPSIS (mnorm=vector, wnorm=sum) - Solution:\n",
       " ALT./CRIT.    Cost (min)    Risk (min)    FPMK (min)    Rank\n",
       "------------  ------------  ------------  ------------  ------\n",
       "     0             10            1             1          1\n",
       "     1             10            2            1.3         3\n",
       "     2             10            1            1.3         2\n",
       "     3             11            2            1.25        4"
      ]
     },
     "execution_count": 7,
     "metadata": {},
     "output_type": "execute_result"
    }
   ],
   "source": [
    "# TOPSIS\n",
    "dm = closeness.TOPSIS()\n",
    "dec = dm.decide(data)\n",
    "# let's see the decision\n",
    "dec"
   ]
  },
  {
   "cell_type": "markdown",
   "id": "a356db8a",
   "metadata": {},
   "source": [
    "# AHP"
   ]
  },
  {
   "cell_type": "code",
   "execution_count": 19,
   "id": "7be0c5f9",
   "metadata": {},
   "outputs": [],
   "source": [
    "# AHP function\n",
    "class AHP():\n",
    "    RI = {1:0, 2:0, 3:0.58, 4:0.9, 5:1.12, 6:1.24, 7:1.32, 8:1.41, 9:1.45}\n",
    "    consistency = False\n",
    "    priority_vec = None\n",
    "    compete = False\n",
    "    normal = False\n",
    "    sublayer = None\n",
    "\n",
    "    def __init__(self,name,size):\n",
    "        self.name = name\n",
    "        self.size = size\n",
    "        self.matrix = np.zeros([size,size])\n",
    "        self.criteria = [None]*size\n",
    "\n",
    "    def update_matrix(self,mat,automated=True):\n",
    "        self.original_matrix = mat\n",
    "        if not((mat.shape[0] == mat.shape[1]) and (mat.ndim == 2)):\n",
    "            raise Exception('Input matrix must be squared')\n",
    "        \n",
    "        if self.size != len(self.criteria):\n",
    "            self.criteria = [None]*self.size\n",
    "        self.matrix = mat\n",
    "        self.size = mat.shape[0]\n",
    "        self.consistency = False\n",
    "        self.normal = False\n",
    "        self.priority_vec = None\n",
    "        if automated:\n",
    "            self.rank()\n",
    "    \n",
    "    def input_priority_vec(self,vec):\n",
    "        if not(vec.shape[1]==1) and (vec.shape[0]==self.size) and (vec.ndim==2):\n",
    "            raise Exception('Size of input priority vector is not compatible.')\n",
    "        self.priority_vec = vec\n",
    "        self.output = self.priority_vec/self.priority_vec.sum()\n",
    "        self.consistency = True\n",
    "        self.normal = True\n",
    "\n",
    "    def rename(self,name):\n",
    "        self.name = name\n",
    "\n",
    "    def update_criteria(self,criteria):\n",
    "        if len(criteria) == self.size:\n",
    "            self.criteria = criteria\n",
    "        else:\n",
    "            raise Exception('Input does not match number of criteria')\n",
    "    \n",
    "    def add_layer(self,alternative):\n",
    "        if not self.criteria:\n",
    "            raise Exception('Please input criteria before adding new layer')\n",
    "        self.compete = False\n",
    "        self.sublayer = OrderedDict()\n",
    "        self.alternative = alternative\n",
    "        for i in range(self.size):\n",
    "            self.sublayer[self.criteria[i]] = AHP(self.criteria[i],len(alternative))\n",
    "            self.sublayer[self.criteria[i]].update_criteria(self.alternative)\n",
    "\n",
    "    def normalize(self):\n",
    "        if self.normal:\n",
    "            pass\n",
    "        self.col_sum = self.matrix.sum(axis=0)\n",
    "        try:\n",
    "            self.matrix = self.matrix/self.col_sum\n",
    "        except:\n",
    "            raise Exception('Error when normalizing on columns')\n",
    "        else:\n",
    "            self.normal = True\n",
    "            self.priority_vec = self.matrix.sum(axis=1).reshape(-1,1)\n",
    "\n",
    "    def rank(self):\n",
    "        if self.consistency:\n",
    "            df = pd.DataFrame(data = self.output, index = self.criteria, columns=[self.name])\n",
    "            return df\n",
    "        \n",
    "        if not self.normal:\n",
    "            self.normalize()\n",
    "        \n",
    "        Ax = self.matrix.dot(self.priority_vec)\n",
    "        eigen_val = (Ax/self.priority_vec).mean()\n",
    "        eigen_val = np.linalg.eig(self.original_matrix)[0].max()\n",
    "        CI = (eigen_val - self.size)/(self.size-1)\n",
    "        CR = CI/self.RI[self.size]\n",
    "        \n",
    "        if CR<0.1 or (self.RI[self.size]==0):\n",
    "            self.consistency = True\n",
    "            self.output = self.priority_vec/self.priority_vec.sum()\n",
    "            self.df_out = pd.DataFrame(data = self.output, index = self.criteria, columns = [self.name])\n",
    "            return self.df_out\n",
    "        else:\n",
    "            raise Exception('Consistency is not sufficient to reach a decision')\n",
    "\n",
    "    def make_decision(self):\n",
    "        if not self.consistency:\n",
    "            self.rank()\n",
    "        if not self.compete:\n",
    "            temp = True\n",
    "            arrays = []\n",
    "            for item in self.sublayer.values():\n",
    "                item.rank()\n",
    "                temp = temp and item.consistency\n",
    "                if temp:\n",
    "                    arrays.append(item.output)\n",
    "                else:\n",
    "                    raise Exception('Please check AHP for {}'.format(item.name))\n",
    "            \n",
    "            if temp:\n",
    "                self.compete = True\n",
    "            else:\n",
    "                pass\n",
    "            self.recommendation = np.concatenate(arrays, axis=1).dot(self.output)\n",
    "        self.df_decision = pd.DataFrame(data=self.recommendation, index=self.alternative, columns = ['AHP Score'])\n",
    "        self.df_decision.index.name = 'Alternative'\n",
    "        self.df_decision['rank'] = self.df_decision['AHP Score'].rank(ascending=True)\n",
    "        return self.df_decision\n",
    "\n",
    "def AHP_rank(df,criteria_matrix):\n",
    "    method = AHP('method',df.shape[1])\n",
    "    method.update_criteria(list(df.columns))\n",
    "    method.update_matrix(criteria_matrix)\n",
    "\n",
    "    method.add_layer([i for i in range(df.shape[0])])\n",
    "\n",
    "    # iterate over column names --> method.sublayer['col_name'].input_priority_vec(insert corresponding col here)\n",
    "    # finally method.make_decision\n",
    "    for col in df.columns:\n",
    "        method.sublayer[col].input_priority_vec(np.array(df[col]).reshape(-1,1))\n",
    "\n",
    "    return method.make_decision()['rank'].values"
   ]
  },
  {
   "cell_type": "code",
   "execution_count": 27,
   "id": "2f427bf0",
   "metadata": {},
   "outputs": [],
   "source": [
    "method = AHP('method',df.shape[1])\n",
    "method.update_criteria(list(df.columns))\n",
    "a = 1.0\n",
    "b = 1.0\n",
    "c = 1.0\n",
    "\n",
    "criteria_matrix = np.array([[1.0,a,b],[1/a,1.0,c],[1/c,1/b,1.0]])\n",
    "\n",
    "method.update_matrix(criteria_matrix)\n",
    "\n",
    "method.add_layer([i for i in range(df.shape[0])])\n",
    "\n",
    "for col in df.columns:\n",
    "    method.sublayer[col].input_priority_vec(np.array(df[col]).reshape(-1,1))\n",
    "\n",
    "method.make_decision()['rank'].values.astype(int)"
   ]
  },
  {
   "cell_type": "code",
   "execution_count": 38,
   "id": "0ce81311",
   "metadata": {},
   "outputs": [
    {
     "data": {
      "text/plain": [
       "0    0\n",
       "1    2\n",
       "2    1\n",
       "3    3\n",
       "Name: Risk, dtype: int64"
      ]
     },
     "execution_count": 38,
     "metadata": {},
     "output_type": "execute_result"
    }
   ],
   "source": [
    "df['Risk'].argsort().argsort()+1"
   ]
  },
  {
   "cell_type": "markdown",
   "id": "31cd79c7",
   "metadata": {},
   "source": [
    "# Sum of ranks"
   ]
  },
  {
   "cell_type": "code",
   "execution_count": 106,
   "id": "edba0e94",
   "metadata": {},
   "outputs": [],
   "source": [
    "sum_of_rank = np.zeros((df.shape[0],1))\n",
    "for col in df.columns:\n",
    "    temp = rankdata(df[col], method='min').reshape(-1,1)\n",
    "    sum_of_rank += temp\n",
    "#     print(col)\n",
    "#     print(np.array(df[col].argsort().argsort()+1).reshape(-1,1))\n",
    "    "
   ]
  },
  {
   "cell_type": "code",
   "execution_count": 107,
   "id": "8c3748bf",
   "metadata": {},
   "outputs": [
    {
     "data": {
      "text/plain": [
       "array([[3.],\n",
       "       [9.],\n",
       "       [6.],\n",
       "       [9.]])"
      ]
     },
     "execution_count": 107,
     "metadata": {},
     "output_type": "execute_result"
    }
   ],
   "source": [
    "sum_of_rank"
   ]
  },
  {
   "cell_type": "code",
   "execution_count": 111,
   "id": "27cc8f59",
   "metadata": {},
   "outputs": [
    {
     "data": {
      "text/plain": [
       "array([1, 3, 2, 4], dtype=int64)"
      ]
     },
     "execution_count": 111,
     "metadata": {},
     "output_type": "execute_result"
    }
   ],
   "source": [
    "sum_of_rank.ravel().argsort().argsort()+1"
   ]
  },
  {
   "cell_type": "code",
   "execution_count": 85,
   "id": "f7d0ed2e",
   "metadata": {},
   "outputs": [
    {
     "data": {
      "text/plain": [
       "array([[1],\n",
       "       [3],\n",
       "       [2],\n",
       "       [4]], dtype=int64)"
      ]
     },
     "execution_count": 85,
     "metadata": {},
     "output_type": "execute_result"
    }
   ],
   "source": [
    "np.array(df['Cost'].argsort()+1).reshape(-1,1)"
   ]
  },
  {
   "cell_type": "code",
   "execution_count": 87,
   "id": "b243770b",
   "metadata": {},
   "outputs": [
    {
     "data": {
      "text/plain": [
       "array([[ 3.],\n",
       "       [10.],\n",
       "       [ 6.],\n",
       "       [11.]])"
      ]
     },
     "execution_count": 87,
     "metadata": {},
     "output_type": "execute_result"
    }
   ],
   "source": [
    "sum_of_rank"
   ]
  },
  {
   "cell_type": "markdown",
   "id": "f0e826e8",
   "metadata": {},
   "source": [
    "# Check if Michael ranks and AHP differ?\n"
   ]
  },
  {
   "cell_type": "code",
   "execution_count": 23,
   "id": "c7953a90",
   "metadata": {},
   "outputs": [],
   "source": [
    "def AHP_rank(df):    \n",
    "    method = AHP('method',df.shape[1])\n",
    "    method.update_criteria(list(df.columns))\n",
    "    method.update_matrix(np.ones((3,3)))\n",
    "\n",
    "    method.add_layer([i for i in range(df.shape[0])])\n",
    "\n",
    "    # iterate over column names --> method.sublayer['col_name'].input_priority_vec(insert corresponding col here)\n",
    "    # finally method.make_decision\n",
    "    for col in df.columns:\n",
    "        method.sublayer[col].input_priority_vec(np.array(df[col]).reshape(-1,1))\n",
    "\n",
    "    return method.make_decision()['rank'].values#.astype(int)"
   ]
  },
  {
   "cell_type": "code",
   "execution_count": 38,
   "id": "c0c903f0",
   "metadata": {},
   "outputs": [],
   "source": [
    "def sum_of_rank(df):\n",
    "    sum_of_rank = np.zeros((df.shape[0],1))\n",
    "    for col in df.columns:\n",
    "        temp = rankdata(df[col], method='min').reshape(-1,1)\n",
    "        sum_of_rank += temp\n",
    "    return sum_of_rank.ravel().argsort().argsort()+1"
   ]
  },
  {
   "cell_type": "code",
   "execution_count": 40,
   "id": "53f1038d",
   "metadata": {},
   "outputs": [],
   "source": [
    "def TOPSIS_SIMUS(df):\n",
    "    data = Data(\n",
    "    # the alternative matrix\n",
    "    mtx=np.array(df),\n",
    "    # optimal sense\n",
    "    criteria=[min, min, min],\n",
    "    # names of alternatives and criteria\n",
    "    anames=list(df.index),\n",
    "    cnames=list(df.columns))\n",
    "    dm = closeness.TOPSIS()\n",
    "    topsis = dm.decide(data)\n",
    "\n",
    "    # dm = SIMUS()\n",
    "    # simus = dm.decide(data,b=[None]*df.shape[1])\n",
    "    return topsis.rank_#,simus.rank_"
   ]
  },
  {
   "cell_type": "code",
   "execution_count": 28,
   "id": "4d968c53",
   "metadata": {},
   "outputs": [],
   "source": [
    "a = AHP_rank(df).astype(int)"
   ]
  },
  {
   "cell_type": "code",
   "execution_count": 29,
   "id": "014de9d2",
   "metadata": {},
   "outputs": [],
   "source": [
    "b = sum_of_rank(df)"
   ]
  },
  {
   "cell_type": "code",
   "execution_count": 31,
   "id": "a2f2581d",
   "metadata": {},
   "outputs": [
    {
     "data": {
      "text/plain": [
       "True"
      ]
     },
     "execution_count": 31,
     "metadata": {},
     "output_type": "execute_result"
    }
   ],
   "source": [
    "np.array_equal(a,b)"
   ]
  },
  {
   "cell_type": "code",
   "execution_count": 42,
   "id": "9979536b",
   "metadata": {},
   "outputs": [
    {
     "data": {
      "text/plain": [
       "array([1, 3, 2, 4])"
      ]
     },
     "execution_count": 42,
     "metadata": {},
     "output_type": "execute_result"
    }
   ],
   "source": [
    "TOPSIS_SIMUS(df)"
   ]
  },
  {
   "cell_type": "code",
   "execution_count": 43,
   "id": "e38cdf37",
   "metadata": {},
   "outputs": [
    {
     "data": {
      "text/plain": [
       "array([3, 1, 2])"
      ]
     },
     "execution_count": 43,
     "metadata": {},
     "output_type": "execute_result"
    }
   ],
   "source": [
    "AHP_rank(df_).astype(int)"
   ]
  },
  {
   "cell_type": "code",
   "execution_count": 53,
   "id": "0a5f4d6d",
   "metadata": {},
   "outputs": [
    {
     "data": {
      "text/plain": [
       "array([[0.5488135 , 0.71518937, 0.60276338],\n",
       "       [0.54488318, 0.4236548 , 0.64589411],\n",
       "       [0.43758721, 0.891773  , 0.96366276]])"
      ]
     },
     "execution_count": 53,
     "metadata": {},
     "output_type": "execute_result"
    }
   ],
   "source": [
    "np.random.rand(3,3)"
   ]
  },
  {
   "cell_type": "code",
   "execution_count": 61,
   "id": "3f77d4b2",
   "metadata": {},
   "outputs": [
    {
     "name": "stdout",
     "output_type": "stream",
     "text": [
      "   0  1  2\n",
      "0  8  9  3\n",
      "1  8  8  0\n",
      "2  5  3  9\n",
      "3  9  5  7\n",
      "   0  1  2\n",
      "0  5  6  8\n",
      "1  6  1  6\n",
      "2  4  8  1\n",
      "3  8  5  1\n",
      "   0  1  2\n",
      "0  9  4  0\n",
      "1  1  9  0\n",
      "2  1  8  9\n",
      "3  0  8  6\n",
      "   0  1  2\n",
      "0  5  4  0\n",
      "1  4  6  6\n",
      "2  4  8  4\n",
      "3  2  8  7\n",
      "   0  1  2\n",
      "0  5  5  4\n",
      "1  7  2  5\n",
      "2  1  3  9\n",
      "3  7  7  1\n",
      "   0  1  2\n",
      "0  2  7  0\n",
      "1  2  7  6\n",
      "2  6  2  2\n",
      "3  9  1  7\n",
      "   0  1  2\n",
      "0  5  6  3\n",
      "1  3  5  8\n",
      "2  5  7  8\n",
      "3  8  3  2\n",
      "   0  1  2\n",
      "0  9  5  0\n",
      "1  9  5  0\n",
      "2  5  4  9\n",
      "3  5  5  4\n",
      "   0  1  2\n",
      "0  5  4  0\n",
      "1  2  9  7\n",
      "2  6  4  9\n",
      "3  7  1  8\n",
      "   0  1  2\n",
      "0  3  0  7\n",
      "1  9  5  3\n",
      "2  4  9  1\n",
      "3  5  0  6\n",
      "   0  1  2\n",
      "0  3  5  5\n",
      "1  7  9  9\n",
      "2  3  6  9\n",
      "3  3  7  8\n",
      "   0  1  2\n",
      "0  6  2  8\n",
      "1  0  4  5\n",
      "2  5  5  4\n",
      "3  7  8  0\n",
      "   0  1  2\n",
      "0  6  3  2\n",
      "1  3  6  7\n",
      "2  7  3  1\n",
      "3  5  2  4\n",
      "   0  1  2\n",
      "0  3  2  3\n",
      "1  6  2  0\n",
      "2  1  1  3\n",
      "3  3  9  5\n",
      "   0  1  2\n",
      "0  8  0  1\n",
      "1  4  5  1\n",
      "2  0  5  0\n",
      "3  2  1  4\n",
      "   0  1  2\n",
      "0  6  9  3\n",
      "1  6  5  2\n",
      "2  4  7  2\n",
      "3  1  0  4\n",
      "   0  1  2\n",
      "0  1  3  9\n",
      "1  8  9  8\n",
      "2  2  4  5\n",
      "3  4  1  7\n"
     ]
    }
   ],
   "source": [
    "for i in range(100):\n",
    "    \n",
    "    np.random.seed(i)    \n",
    "    df_ = pd.DataFrame(np.random.randint(10,size=(4,3)))\n",
    "    if np.array_equal(AHP_rank(df_).astype(int),TOPSIS_SIMUS(df_)):\n",
    "        pass\n",
    "    else:\n",
    "        print(df_.head())\n",
    "        "
   ]
  },
  {
   "cell_type": "code",
   "execution_count": 62,
   "id": "6f835fe6",
   "metadata": {},
   "outputs": [
    {
     "data": {
      "text/html": [
       "<div>\n",
       "<style scoped>\n",
       "    .dataframe tbody tr th:only-of-type {\n",
       "        vertical-align: middle;\n",
       "    }\n",
       "\n",
       "    .dataframe tbody tr th {\n",
       "        vertical-align: top;\n",
       "    }\n",
       "\n",
       "    .dataframe thead th {\n",
       "        text-align: right;\n",
       "    }\n",
       "</style>\n",
       "<table border=\"1\" class=\"dataframe\">\n",
       "  <thead>\n",
       "    <tr style=\"text-align: right;\">\n",
       "      <th></th>\n",
       "      <th>0</th>\n",
       "      <th>1</th>\n",
       "      <th>2</th>\n",
       "    </tr>\n",
       "  </thead>\n",
       "  <tbody>\n",
       "    <tr>\n",
       "      <th>0</th>\n",
       "      <td>1</td>\n",
       "      <td>3</td>\n",
       "      <td>9</td>\n",
       "    </tr>\n",
       "    <tr>\n",
       "      <th>1</th>\n",
       "      <td>8</td>\n",
       "      <td>9</td>\n",
       "      <td>8</td>\n",
       "    </tr>\n",
       "    <tr>\n",
       "      <th>2</th>\n",
       "      <td>2</td>\n",
       "      <td>4</td>\n",
       "      <td>5</td>\n",
       "    </tr>\n",
       "    <tr>\n",
       "      <th>3</th>\n",
       "      <td>4</td>\n",
       "      <td>1</td>\n",
       "      <td>7</td>\n",
       "    </tr>\n",
       "  </tbody>\n",
       "</table>\n",
       "</div>"
      ],
      "text/plain": [
       "   0  1  2\n",
       "0  1  3  9\n",
       "1  8  9  8\n",
       "2  2  4  5\n",
       "3  4  1  7"
      ]
     },
     "execution_count": 62,
     "metadata": {},
     "output_type": "execute_result"
    }
   ],
   "source": [
    "df_"
   ]
  },
  {
   "cell_type": "code",
   "execution_count": null,
   "id": "d02e3796",
   "metadata": {},
   "outputs": [],
   "source": []
  }
 ],
 "metadata": {
  "interpreter": {
   "hash": "f9e1f28e9d2dc65c494ab366efaa056176572c67b7fd91339b7a19fa600a47d4"
  },
  "kernelspec": {
   "display_name": "Python 3",
   "language": "python",
   "name": "python3"
  },
  "language_info": {
   "codemirror_mode": {
    "name": "ipython",
    "version": 3
   },
   "file_extension": ".py",
   "mimetype": "text/x-python",
   "name": "python",
   "nbconvert_exporter": "python",
   "pygments_lexer": "ipython3",
   "version": "3.8.8"
  }
 },
 "nbformat": 4,
 "nbformat_minor": 5
}
